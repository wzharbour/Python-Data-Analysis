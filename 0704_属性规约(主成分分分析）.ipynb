{
 "cells": [
  {
   "cell_type": "markdown",
   "metadata": {},
   "source": [
    "#### 在数据分析与挖掘中，通常会遇到众多的变量，这些变量之间往往具有一定的相关性。如果众多指标之间具有较强的相关性，不仅会增加计算复杂度，也会影响到模型的分析结果。一种思路就是把众多的变量转换为少数几个互不相关的综合变量，同时又不影响原来变量所反映的信息，即主成分分析"
   ]
  },
  {
   "cell_type": "markdown",
   "metadata": {},
   "source": [
    "*  PCA的思想是将n维特征映射到k维上（k<n），这k维是全新的正交特征。这k维特征称为主成分，是重新构造出来的k维特征，而不是简单地从n维特征中去除其余n-k维特征"
   ]
  },
  {
   "cell_type": "markdown",
   "metadata": {},
   "source": [
    "####  sklearn.decomposition 模块中可以导入 PCA主成分分析模块进行分析,具体的步骤"
   ]
  },
  {
   "cell_type": "markdown",
   "metadata": {},
   "source": [
    "* 对原始数据进行标准化处理\n",
    "* 计算样本相关系数矩阵\n",
    "* 求相关系数矩阵的特征值和相应的特征向量\n",
    "* 选择重要的主成分，并写出主成分表达式\n",
    "* 计算主成分得分\n",
    "* 依据主成分得分的数据，进一步从事统计分析"
   ]
  },
  {
   "cell_type": "markdown",
   "metadata": {},
   "source": [
    "### 综合练习\n",
    "* 利用主成分分析模型进行上市公司的综合评价，具体数据见表格。\n",
    "* 总体规模指标：营业收入、营业利润、利润总额、净利润、资产总计、定资产净额 等\n",
    "* 投资效率指标：净资产收益率、每股净资产、每股资本公积、每股收益  等"
   ]
  },
  {
   "cell_type": "code",
   "execution_count": 1,
   "metadata": {},
   "outputs": [],
   "source": [
    "import pandas as pd\n",
    "import tushare as ts\n",
    "from sklearn.decomposition import PCA  # PCA主成分分析"
   ]
  },
  {
   "cell_type": "code",
   "execution_count": 2,
   "metadata": {},
   "outputs": [],
   "source": [
    "data = pd.read_excel('./data/财务指标数据.xlsx')"
   ]
  },
  {
   "cell_type": "code",
   "execution_count": 4,
   "metadata": {},
   "outputs": [
    {
     "data": {
      "text/plain": [
       "Index(['股票代码', '股票简称', '现价(元)', '涨跌幅(%)', '营业收入(元)2019.12.31',\n",
       "       '营业利润(元)2019.12.31', '利润总额(元)2019.12.31', '净利润(元)2019.12.31',\n",
       "       '资产总计(元)2019.12.31', '固定资产净额(元)2019.12.31', '加权净资产收益率(%)2019.12.31',\n",
       "       '每股净资产(元)2019.12.31', '每股资本公积(元)2019.12.31', '基本每股收益(元)2019.12.31',\n",
       "       '营业总收入(元)2019.12.31', '预测营业利润 (元)2022.12.31', '预测营业利润 (元)2021.12.31',\n",
       "       '预测营业利润 (元)2020.12.31', '净利润同比增长率(%)2019.12.31', '净资产(元)2019.12.31',\n",
       "       '所属同花顺行业', '预测净资产收益率 (%)2022.12.31', '预测净资产收益率 (%)2021.12.31',\n",
       "       '预测净资产收益率 (%)2020.12.31', '每股未分配利润(元)2019.12.31',\n",
       "       '每股经营现金流(元)2019.12.31', '每股盈余公积(元)2019.12.31', '未分配利润(元)2019.12.31',\n",
       "       'a股流通市值 (元)2021.01.29', '动态市盈率2021.01.29'],\n",
       "      dtype='object')"
      ]
     },
     "execution_count": 4,
     "metadata": {},
     "output_type": "execute_result"
    }
   ],
   "source": [
    "data.columns "
   ]
  },
  {
   "cell_type": "code",
   "execution_count": 5,
   "metadata": {},
   "outputs": [],
   "source": [
    "new_columns = [i for i in data.columns  if '2019.12.31'in i] # 目标字段"
   ]
  },
  {
   "cell_type": "code",
   "execution_count": 6,
   "metadata": {},
   "outputs": [],
   "source": [
    "new_columns = new_columns + ['股票代码','股票简称']  "
   ]
  },
  {
   "cell_type": "code",
   "execution_count": 7,
   "metadata": {},
   "outputs": [],
   "source": [
    "data1 = data[new_columns]"
   ]
  },
  {
   "cell_type": "code",
   "execution_count": 10,
   "metadata": {},
   "outputs": [],
   "source": [
    "data1 = data1.set_index('股票简称')"
   ]
  },
  {
   "cell_type": "code",
   "execution_count": 12,
   "metadata": {},
   "outputs": [],
   "source": [
    "import numpy  as np\n",
    "data1 = data1.apply(lambda x: x.replace('--',np.nan))"
   ]
  },
  {
   "cell_type": "code",
   "execution_count": 13,
   "metadata": {},
   "outputs": [],
   "source": [
    "data2=data1.dropna() # 删除指标数据为空的股票"
   ]
  },
  {
   "cell_type": "code",
   "execution_count": 14,
   "metadata": {},
   "outputs": [
    {
     "data": {
      "text/plain": [
       "(3776, 18)"
      ]
     },
     "execution_count": 14,
     "metadata": {},
     "output_type": "execute_result"
    }
   ],
   "source": [
    "data2.shape"
   ]
  },
  {
   "cell_type": "code",
   "execution_count": 15,
   "metadata": {},
   "outputs": [
    {
     "data": {
      "text/plain": [
       "营业收入(元)2019.12.31        float64\n",
       "营业利润(元)2019.12.31        float64\n",
       "利润总额(元)2019.12.31        float64\n",
       "净利润(元)2019.12.31         float64\n",
       "资产总计(元)2019.12.31        float64\n",
       "固定资产净额(元)2019.12.31      float64\n",
       "加权净资产收益率(%)2019.12.31    float64\n",
       "每股净资产(元)2019.12.31       float64\n",
       "每股资本公积(元)2019.12.31      float64\n",
       "基本每股收益(元)2019.12.31      float64\n",
       "营业总收入(元)2019.12.31       float64\n",
       "净利润同比增长率(%)2019.12.31    float64\n",
       "净资产(元)2019.12.31         float64\n",
       "每股未分配利润(元)2019.12.31     float64\n",
       "每股经营现金流(元)2019.12.31     float64\n",
       "每股盈余公积(元)2019.12.31      float64\n",
       "未分配利润(元)2019.12.31       float64\n",
       "股票代码                      object\n",
       "dtype: object"
      ]
     },
     "execution_count": 15,
     "metadata": {},
     "output_type": "execute_result"
    }
   ],
   "source": [
    "data2.dtypes"
   ]
  },
  {
   "cell_type": "code",
   "execution_count": 19,
   "metadata": {},
   "outputs": [],
   "source": [
    "X = data2.iloc[:,:-1] # 提取目标数据做为上市公司评价指标PCA建模数据"
   ]
  },
  {
   "cell_type": "code",
   "execution_count": 20,
   "metadata": {},
   "outputs": [
    {
     "data": {
      "text/plain": [
       "(3776, 17)"
      ]
     },
     "execution_count": 20,
     "metadata": {},
     "output_type": "execute_result"
    }
   ],
   "source": [
    "X.shape"
   ]
  },
  {
   "cell_type": "code",
   "execution_count": 21,
   "metadata": {},
   "outputs": [],
   "source": [
    "normal_X = X.apply(lambda x : (x-x.mean())/x.std())"
   ]
  },
  {
   "cell_type": "code",
   "execution_count": 22,
   "metadata": {},
   "outputs": [],
   "source": [
    "pca = PCA(n_components=0.95) # 主成分方差百分比累计0.95\n",
    "Y = pca.fit_transform(normal_X) # 主成分的数据"
   ]
  },
  {
   "cell_type": "code",
   "execution_count": 23,
   "metadata": {},
   "outputs": [
    {
     "data": {
      "text/plain": [
       "(3776, 8)"
      ]
     },
     "execution_count": 23,
     "metadata": {},
     "output_type": "execute_result"
    }
   ],
   "source": [
    "Y.shape"
   ]
  },
  {
   "cell_type": "code",
   "execution_count": 24,
   "metadata": {},
   "outputs": [
    {
     "data": {
      "text/plain": [
       "array([0.42625225, 0.20872896, 0.09007326, 0.07316032, 0.05821886,\n",
       "       0.04595949, 0.03907259, 0.02300231])"
      ]
     },
     "execution_count": 24,
     "metadata": {},
     "output_type": "execute_result"
    }
   ],
   "source": [
    "weights = pca.explained_variance_ratio_  # 不同主成分数据的权重\n",
    "weights"
   ]
  },
  {
   "cell_type": "code",
   "execution_count": 25,
   "metadata": {},
   "outputs": [],
   "source": [
    "score = np.dot(Y,weights)  # 根据权重和数据矩阵相乘得到对应的得分"
   ]
  },
  {
   "cell_type": "code",
   "execution_count": 27,
   "metadata": {},
   "outputs": [],
   "source": [
    "ScoreD = pd.DataFrame(Y,index=normal_X.index ,columns=list(range(1,9)))\n",
    "ScoreD['score'] = score"
   ]
  },
  {
   "cell_type": "code",
   "execution_count": 29,
   "metadata": {},
   "outputs": [
    {
     "data": {
      "text/html": [
       "<div>\n",
       "<style scoped>\n",
       "    .dataframe tbody tr th:only-of-type {\n",
       "        vertical-align: middle;\n",
       "    }\n",
       "\n",
       "    .dataframe tbody tr th {\n",
       "        vertical-align: top;\n",
       "    }\n",
       "\n",
       "    .dataframe thead th {\n",
       "        text-align: right;\n",
       "    }\n",
       "</style>\n",
       "<table border=\"1\" class=\"dataframe\">\n",
       "  <thead>\n",
       "    <tr style=\"text-align: right;\">\n",
       "      <th></th>\n",
       "      <th>1</th>\n",
       "      <th>2</th>\n",
       "      <th>3</th>\n",
       "      <th>4</th>\n",
       "      <th>5</th>\n",
       "      <th>6</th>\n",
       "      <th>7</th>\n",
       "      <th>8</th>\n",
       "      <th>score</th>\n",
       "    </tr>\n",
       "    <tr>\n",
       "      <th>股票简称</th>\n",
       "      <th></th>\n",
       "      <th></th>\n",
       "      <th></th>\n",
       "      <th></th>\n",
       "      <th></th>\n",
       "      <th></th>\n",
       "      <th></th>\n",
       "      <th></th>\n",
       "      <th></th>\n",
       "    </tr>\n",
       "  </thead>\n",
       "  <tbody>\n",
       "    <tr>\n",
       "      <th>工商银行</th>\n",
       "      <td>77.048037</td>\n",
       "      <td>-17.593450</td>\n",
       "      <td>-21.182284</td>\n",
       "      <td>0.535168</td>\n",
       "      <td>-1.246472</td>\n",
       "      <td>1.040758</td>\n",
       "      <td>-3.293499</td>\n",
       "      <td>-0.558262</td>\n",
       "      <td>27.134570</td>\n",
       "    </tr>\n",
       "    <tr>\n",
       "      <th>贵州茅台</th>\n",
       "      <td>22.573732</td>\n",
       "      <td>56.101600</td>\n",
       "      <td>-1.144686</td>\n",
       "      <td>3.459792</td>\n",
       "      <td>22.704456</td>\n",
       "      <td>-0.804473</td>\n",
       "      <td>5.085420</td>\n",
       "      <td>-1.845226</td>\n",
       "      <td>22.923257</td>\n",
       "    </tr>\n",
       "    <tr>\n",
       "      <th>建设银行</th>\n",
       "      <td>64.140908</td>\n",
       "      <td>-13.750816</td>\n",
       "      <td>-18.632835</td>\n",
       "      <td>0.551805</td>\n",
       "      <td>-0.505011</td>\n",
       "      <td>0.827779</td>\n",
       "      <td>-2.639602</td>\n",
       "      <td>-0.261064</td>\n",
       "      <td>22.731565</td>\n",
       "    </tr>\n",
       "    <tr>\n",
       "      <th>中国石油</th>\n",
       "      <td>45.439369</td>\n",
       "      <td>-9.605664</td>\n",
       "      <td>36.173017</td>\n",
       "      <td>-0.897560</td>\n",
       "      <td>-3.767023</td>\n",
       "      <td>-0.293567</td>\n",
       "      <td>1.141948</td>\n",
       "      <td>-0.803573</td>\n",
       "      <td>20.349540</td>\n",
       "    </tr>\n",
       "    <tr>\n",
       "      <th>中国石化</th>\n",
       "      <td>40.118864</td>\n",
       "      <td>-7.579303</td>\n",
       "      <td>42.639828</td>\n",
       "      <td>-1.026437</td>\n",
       "      <td>-3.376295</td>\n",
       "      <td>-0.825032</td>\n",
       "      <td>2.752075</td>\n",
       "      <td>1.411579</td>\n",
       "      <td>19.189868</td>\n",
       "    </tr>\n",
       "    <tr>\n",
       "      <th>农业银行</th>\n",
       "      <td>52.617223</td>\n",
       "      <td>-12.851541</td>\n",
       "      <td>-15.264195</td>\n",
       "      <td>0.200990</td>\n",
       "      <td>-1.062838</td>\n",
       "      <td>0.705700</td>\n",
       "      <td>-2.240951</td>\n",
       "      <td>-0.348664</td>\n",
       "      <td>18.260507</td>\n",
       "    </tr>\n",
       "    <tr>\n",
       "      <th>中国银行</th>\n",
       "      <td>50.809355</td>\n",
       "      <td>-12.803155</td>\n",
       "      <td>-12.763981</td>\n",
       "      <td>0.141511</td>\n",
       "      <td>-1.527225</td>\n",
       "      <td>0.345052</td>\n",
       "      <td>-0.746622</td>\n",
       "      <td>-1.996195</td>\n",
       "      <td>17.697728</td>\n",
       "    </tr>\n",
       "    <tr>\n",
       "      <th>中国平安</th>\n",
       "      <td>37.750944</td>\n",
       "      <td>5.998436</td>\n",
       "      <td>0.945824</td>\n",
       "      <td>1.444490</td>\n",
       "      <td>-0.255437</td>\n",
       "      <td>1.106885</td>\n",
       "      <td>-4.482547</td>\n",
       "      <td>8.690334</td>\n",
       "      <td>17.595099</td>\n",
       "    </tr>\n",
       "    <tr>\n",
       "      <th>招商银行</th>\n",
       "      <td>22.516320</td>\n",
       "      <td>2.157771</td>\n",
       "      <td>-5.491049</td>\n",
       "      <td>1.164474</td>\n",
       "      <td>1.493587</td>\n",
       "      <td>-0.704069</td>\n",
       "      <td>2.825790</td>\n",
       "      <td>-0.817979</td>\n",
       "      <td>9.784810</td>\n",
       "    </tr>\n",
       "    <tr>\n",
       "      <th>中国建筑</th>\n",
       "      <td>20.322983</td>\n",
       "      <td>-4.093843</td>\n",
       "      <td>12.621543</td>\n",
       "      <td>-0.815671</td>\n",
       "      <td>-1.411970</td>\n",
       "      <td>-0.684145</td>\n",
       "      <td>1.583203</td>\n",
       "      <td>7.065148</td>\n",
       "      <td>8.996131</td>\n",
       "    </tr>\n",
       "  </tbody>\n",
       "</table>\n",
       "</div>"
      ],
      "text/plain": [
       "              1          2          3         4          5         6  \\\n",
       "股票简称                                                                   \n",
       "工商银行  77.048037 -17.593450 -21.182284  0.535168  -1.246472  1.040758   \n",
       "贵州茅台  22.573732  56.101600  -1.144686  3.459792  22.704456 -0.804473   \n",
       "建设银行  64.140908 -13.750816 -18.632835  0.551805  -0.505011  0.827779   \n",
       "中国石油  45.439369  -9.605664  36.173017 -0.897560  -3.767023 -0.293567   \n",
       "中国石化  40.118864  -7.579303  42.639828 -1.026437  -3.376295 -0.825032   \n",
       "农业银行  52.617223 -12.851541 -15.264195  0.200990  -1.062838  0.705700   \n",
       "中国银行  50.809355 -12.803155 -12.763981  0.141511  -1.527225  0.345052   \n",
       "中国平安  37.750944   5.998436   0.945824  1.444490  -0.255437  1.106885   \n",
       "招商银行  22.516320   2.157771  -5.491049  1.164474   1.493587 -0.704069   \n",
       "中国建筑  20.322983  -4.093843  12.621543 -0.815671  -1.411970 -0.684145   \n",
       "\n",
       "             7         8      score  \n",
       "股票简称                                 \n",
       "工商银行 -3.293499 -0.558262  27.134570  \n",
       "贵州茅台  5.085420 -1.845226  22.923257  \n",
       "建设银行 -2.639602 -0.261064  22.731565  \n",
       "中国石油  1.141948 -0.803573  20.349540  \n",
       "中国石化  2.752075  1.411579  19.189868  \n",
       "农业银行 -2.240951 -0.348664  18.260507  \n",
       "中国银行 -0.746622 -1.996195  17.697728  \n",
       "中国平安 -4.482547  8.690334  17.595099  \n",
       "招商银行  2.825790 -0.817979   9.784810  \n",
       "中国建筑  1.583203  7.065148   8.996131  "
      ]
     },
     "execution_count": 29,
     "metadata": {},
     "output_type": "execute_result"
    }
   ],
   "source": [
    "ScoreD.sort_values('score',ascending=False).iloc[0:10]"
   ]
  },
  {
   "cell_type": "code",
   "execution_count": null,
   "metadata": {},
   "outputs": [],
   "source": []
  }
 ],
 "metadata": {
  "kernelspec": {
   "display_name": "Python 3",
   "language": "python",
   "name": "python3"
  },
  "language_info": {
   "codemirror_mode": {
    "name": "ipython",
    "version": 3
   },
   "file_extension": ".py",
   "mimetype": "text/x-python",
   "name": "python",
   "nbconvert_exporter": "python",
   "pygments_lexer": "ipython3",
   "version": "3.8.8"
  }
 },
 "nbformat": 4,
 "nbformat_minor": 4
}
