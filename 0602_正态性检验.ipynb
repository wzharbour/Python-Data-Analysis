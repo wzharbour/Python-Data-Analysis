{
 "cells": [
  {
   "cell_type": "markdown",
   "metadata": {},
   "source": [
    "#### 许多重要金融模型，如均值-方差投资组合理论和资本性资产定价模型（CAPM），都依赖于证券收益呈正态分布这一假设,实际的金融市场数据大多数都不是正态的。大多数情况下数据和假设是有出入的"
   ]
  },
  {
   "cell_type": "markdown",
   "metadata": {},
   "source": [
    "* 价格数据的正态性检验"
   ]
  },
  {
   "cell_type": "markdown",
   "metadata": {},
   "source": [
    "* 收益率数据的正态性检验"
   ]
  },
  {
   "cell_type": "markdown",
   "metadata": {},
   "source": [
    "QQ图（quantile-quantile plot）在金融风险管理中的主要作用是检验两个数据是否服从同一分布，通过画出两组数据的累计分布函数，比较在同一百分比面积α下对应的x、y轴分位数是否相同（即QQ图所有点基本上在45°线上）来实现\n",
    "\n",
    "很多时候需要检验股票价格数据是否服从对数正态分布，或者收益率是否服从正态分布。\n",
    "\n",
    "画出它的累积分布函数图，以及与正态分布比较的QQ图来验证其正态性。\n"
   ]
  },
  {
   "cell_type": "code",
   "execution_count": 6,
   "metadata": {},
   "outputs": [],
   "source": [
    "# 概率密度图、qq图 可视化判断正态性\n",
    "import tushare as ts\n",
    "import pandas as pd\n",
    "import numpy as np\n",
    "import scipy.stats as scs  # scipy 是一个科学计算的模块，优化算法、统计。。。字模块，要先安装\n",
    "from pylab import plt,mpl\n",
    "%matplotlib inline"
   ]
  },
  {
   "cell_type": "code",
   "execution_count": 7,
   "metadata": {},
   "outputs": [],
   "source": [
    "# 设置图片的中文显示\n",
    "mpl.rcParams['font.sans-serif'] ='SimHei'    #显示中文\n",
    "mpl.rcParams['axes.unicode_minus'] = False    #显示负号"
   ]
  },
  {
   "cell_type": "code",
   "execution_count": 8,
   "metadata": {},
   "outputs": [],
   "source": [
    "def  pdf_plot(data):\n",
    "    \"\"\" 用户画概率密度图 的函数\"\"\"\n",
    "    plt.figure(figsize=(10,6))    # 画布\n",
    "    plt.hist(data,bins=50,label='样本观测值的频率')  # 数据直方图    bins: 直方图的柱数，即要分的组数，默认为10；\n",
    "    plt.xlabel('样本值')   # 坐标轴标签\n",
    "    plt.ylabel('样本频率')\n",
    "    x = np.linspace(plt.axis()[0],plt.axis()[1],100)  # 等差数列，x轴的值\n",
    "    plt.plot(x,scs.norm.pdf(x,data.mean(),data.std()),'r',label='概率密度函数')"
   ]
  },
  {
   "cell_type": "code",
   "execution_count": 9,
   "metadata": {},
   "outputs": [],
   "source": [
    "import statsmodels.api as sm   # statsmodels库需要额外安装  即Q--Q'图，与y = x线进行比较，若基本吻合则原序列服从正态分布，若相差较大则不服从正态分布。\n",
    "def qq_plot(data):\n",
    "    \n",
    "    sm.qqplot(data,line='s')\n",
    "    plt.grid(True)\n",
    "    plt.xlabel('理论分位数')\n",
    "    plt.ylabel('样本实际的分位数')"
   ]
  },
  {
   "cell_type": "code",
   "execution_count": 10,
   "metadata": {},
   "outputs": [
    {
     "data": {
      "text/html": [
       "<div>\n",
       "<style scoped>\n",
       "    .dataframe tbody tr th:only-of-type {\n",
       "        vertical-align: middle;\n",
       "    }\n",
       "\n",
       "    .dataframe tbody tr th {\n",
       "        vertical-align: top;\n",
       "    }\n",
       "\n",
       "    .dataframe thead th {\n",
       "        text-align: right;\n",
       "    }\n",
       "</style>\n",
       "<table border=\"1\" class=\"dataframe\">\n",
       "  <thead>\n",
       "    <tr style=\"text-align: right;\">\n",
       "      <th></th>\n",
       "      <th>开盘价</th>\n",
       "      <th>最高价</th>\n",
       "      <th>最低价</th>\n",
       "      <th>收盘价</th>\n",
       "      <th>涨跌额</th>\n",
       "      <th>涨跌幅(%)</th>\n",
       "      <th>成交量(手)</th>\n",
       "      <th>成交金额(万元)</th>\n",
       "      <th>振幅</th>\n",
       "      <th>换手率</th>\n",
       "    </tr>\n",
       "    <tr>\n",
       "      <th>日期</th>\n",
       "      <th></th>\n",
       "      <th></th>\n",
       "      <th></th>\n",
       "      <th></th>\n",
       "      <th></th>\n",
       "      <th></th>\n",
       "      <th></th>\n",
       "      <th></th>\n",
       "      <th></th>\n",
       "      <th></th>\n",
       "    </tr>\n",
       "  </thead>\n",
       "  <tbody>\n",
       "    <tr>\n",
       "      <th>2020-01-02</th>\n",
       "      <td>6.26</td>\n",
       "      <td>6.28</td>\n",
       "      <td>6.22</td>\n",
       "      <td>6.23</td>\n",
       "      <td>0.02</td>\n",
       "      <td>0.32</td>\n",
       "      <td>91,728</td>\n",
       "      <td>5,731</td>\n",
       "      <td>0.97</td>\n",
       "      <td>0.23</td>\n",
       "    </tr>\n",
       "    <tr>\n",
       "      <th>2020-01-03</th>\n",
       "      <td>6.24</td>\n",
       "      <td>6.26</td>\n",
       "      <td>6.20</td>\n",
       "      <td>6.26</td>\n",
       "      <td>0.03</td>\n",
       "      <td>0.48</td>\n",
       "      <td>79,114</td>\n",
       "      <td>4,931</td>\n",
       "      <td>0.96</td>\n",
       "      <td>0.20</td>\n",
       "    </tr>\n",
       "    <tr>\n",
       "      <th>2020-01-06</th>\n",
       "      <td>6.24</td>\n",
       "      <td>6.28</td>\n",
       "      <td>6.21</td>\n",
       "      <td>6.24</td>\n",
       "      <td>-0.02</td>\n",
       "      <td>-0.32</td>\n",
       "      <td>111,752</td>\n",
       "      <td>6,981</td>\n",
       "      <td>1.12</td>\n",
       "      <td>0.28</td>\n",
       "    </tr>\n",
       "    <tr>\n",
       "      <th>2020-01-07</th>\n",
       "      <td>6.24</td>\n",
       "      <td>6.35</td>\n",
       "      <td>6.22</td>\n",
       "      <td>6.31</td>\n",
       "      <td>0.07</td>\n",
       "      <td>1.12</td>\n",
       "      <td>130,867</td>\n",
       "      <td>8,237</td>\n",
       "      <td>2.08</td>\n",
       "      <td>0.33</td>\n",
       "    </tr>\n",
       "    <tr>\n",
       "      <th>2020-01-08</th>\n",
       "      <td>6.29</td>\n",
       "      <td>6.29</td>\n",
       "      <td>6.11</td>\n",
       "      <td>6.14</td>\n",
       "      <td>-0.17</td>\n",
       "      <td>-2.69</td>\n",
       "      <td>150,504</td>\n",
       "      <td>9,321</td>\n",
       "      <td>2.85</td>\n",
       "      <td>0.38</td>\n",
       "    </tr>\n",
       "    <tr>\n",
       "      <th>...</th>\n",
       "      <td>...</td>\n",
       "      <td>...</td>\n",
       "      <td>...</td>\n",
       "      <td>...</td>\n",
       "      <td>...</td>\n",
       "      <td>...</td>\n",
       "      <td>...</td>\n",
       "      <td>...</td>\n",
       "      <td>...</td>\n",
       "      <td>...</td>\n",
       "    </tr>\n",
       "    <tr>\n",
       "      <th>2021-06-11</th>\n",
       "      <td>10.16</td>\n",
       "      <td>10.94</td>\n",
       "      <td>10.16</td>\n",
       "      <td>10.66</td>\n",
       "      <td>0.51</td>\n",
       "      <td>5.02</td>\n",
       "      <td>1,425,118</td>\n",
       "      <td>151,768</td>\n",
       "      <td>7.68</td>\n",
       "      <td>3.00</td>\n",
       "    </tr>\n",
       "    <tr>\n",
       "      <th>2021-06-15</th>\n",
       "      <td>10.66</td>\n",
       "      <td>10.78</td>\n",
       "      <td>10.30</td>\n",
       "      <td>10.44</td>\n",
       "      <td>-0.22</td>\n",
       "      <td>-2.06</td>\n",
       "      <td>918,688</td>\n",
       "      <td>96,353</td>\n",
       "      <td>4.50</td>\n",
       "      <td>1.93</td>\n",
       "    </tr>\n",
       "    <tr>\n",
       "      <th>2021-06-16</th>\n",
       "      <td>10.30</td>\n",
       "      <td>10.31</td>\n",
       "      <td>9.53</td>\n",
       "      <td>9.70</td>\n",
       "      <td>-0.74</td>\n",
       "      <td>-7.09</td>\n",
       "      <td>1,130,270</td>\n",
       "      <td>111,025</td>\n",
       "      <td>7.47</td>\n",
       "      <td>2.38</td>\n",
       "    </tr>\n",
       "    <tr>\n",
       "      <th>2021-06-17</th>\n",
       "      <td>9.65</td>\n",
       "      <td>9.98</td>\n",
       "      <td>9.48</td>\n",
       "      <td>9.83</td>\n",
       "      <td>0.13</td>\n",
       "      <td>1.34</td>\n",
       "      <td>627,897</td>\n",
       "      <td>61,601</td>\n",
       "      <td>5.15</td>\n",
       "      <td>1.32</td>\n",
       "    </tr>\n",
       "    <tr>\n",
       "      <th>2021-06-18</th>\n",
       "      <td>9.62</td>\n",
       "      <td>9.77</td>\n",
       "      <td>9.30</td>\n",
       "      <td>9.60</td>\n",
       "      <td>0.03</td>\n",
       "      <td>0.31</td>\n",
       "      <td>765,926</td>\n",
       "      <td>72,974</td>\n",
       "      <td>4.91</td>\n",
       "      <td>1.61</td>\n",
       "    </tr>\n",
       "  </tbody>\n",
       "</table>\n",
       "<p>353 rows × 10 columns</p>\n",
       "</div>"
      ],
      "text/plain": [
       "              开盘价    最高价    最低价    收盘价   涨跌额  涨跌幅(%)     成交量(手) 成交金额(万元)  \\\n",
       "日期                                                                         \n",
       "2020-01-02   6.26   6.28   6.22   6.23  0.02    0.32     91,728    5,731   \n",
       "2020-01-03   6.24   6.26   6.20   6.26  0.03    0.48     79,114    4,931   \n",
       "2020-01-06   6.24   6.28   6.21   6.24 -0.02   -0.32    111,752    6,981   \n",
       "2020-01-07   6.24   6.35   6.22   6.31  0.07    1.12    130,867    8,237   \n",
       "2020-01-08   6.29   6.29   6.11   6.14 -0.17   -2.69    150,504    9,321   \n",
       "...           ...    ...    ...    ...   ...     ...        ...      ...   \n",
       "2021-06-11  10.16  10.94  10.16  10.66  0.51    5.02  1,425,118  151,768   \n",
       "2021-06-15  10.66  10.78  10.30  10.44 -0.22   -2.06    918,688   96,353   \n",
       "2021-06-16  10.30  10.31   9.53   9.70 -0.74   -7.09  1,130,270  111,025   \n",
       "2021-06-17   9.65   9.98   9.48   9.83  0.13    1.34    627,897   61,601   \n",
       "2021-06-18   9.62   9.77   9.30   9.60  0.03    0.31    765,926   72,974   \n",
       "\n",
       "              振幅   换手率  \n",
       "日期                      \n",
       "2020-01-02  0.97  0.23  \n",
       "2020-01-03  0.96  0.20  \n",
       "2020-01-06  1.12  0.28  \n",
       "2020-01-07  2.08  0.33  \n",
       "2020-01-08  2.85  0.38  \n",
       "...          ...   ...  \n",
       "2021-06-11  7.68  3.00  \n",
       "2021-06-15  4.50  1.93  \n",
       "2021-06-16  7.47  2.38  \n",
       "2021-06-17  5.15  1.32  \n",
       "2021-06-18  4.91  1.61  \n",
       "\n",
       "[353 rows x 10 columns]"
      ]
     },
     "execution_count": 10,
     "metadata": {},
     "output_type": "execute_result"
    }
   ],
   "source": [
    "app0=pd.read_excel('000027.xls')\n",
    "app0['日期']=pd.to_datetime(app0['日期'])\n",
    "#app0['日期', '开盘价','最高价','最低价','收盘价','涨跌额','涨跌幅(%)','成交量(手)','成交金额(万元)','振幅','换手率']\n",
    "appl=pd.DataFrame(data=app0,columns=['日期', '开盘价','最高价','最低价','收盘价','涨跌额','涨跌幅(%)','成交量(手)','成交金额(万元)','振幅','换手率'])\n",
    "#appl.set_index(keys='日期')\n",
    "appl =appl.set_index('日期').sort_index()\n",
    "appl"
   ]
  },
  {
   "cell_type": "code",
   "execution_count": 20,
   "metadata": {},
   "outputs": [
    {
     "data": {
      "text/html": [
       "<div>\n",
       "<style scoped>\n",
       "    .dataframe tbody tr th:only-of-type {\n",
       "        vertical-align: middle;\n",
       "    }\n",
       "\n",
       "    .dataframe tbody tr th {\n",
       "        vertical-align: top;\n",
       "    }\n",
       "\n",
       "    .dataframe thead th {\n",
       "        text-align: right;\n",
       "    }\n",
       "</style>\n",
       "<table border=\"1\" class=\"dataframe\">\n",
       "  <thead>\n",
       "    <tr style=\"text-align: right;\">\n",
       "      <th></th>\n",
       "      <th>开盘价</th>\n",
       "      <th>最高价</th>\n",
       "      <th>最低价</th>\n",
       "      <th>收盘价</th>\n",
       "      <th>涨跌额</th>\n",
       "      <th>涨跌幅(%)</th>\n",
       "      <th>成交量(手)</th>\n",
       "      <th>成交金额(万元)</th>\n",
       "      <th>振幅</th>\n",
       "      <th>换手率</th>\n",
       "      <th>logreturn</th>\n",
       "      <th>return</th>\n",
       "    </tr>\n",
       "    <tr>\n",
       "      <th>日期</th>\n",
       "      <th></th>\n",
       "      <th></th>\n",
       "      <th></th>\n",
       "      <th></th>\n",
       "      <th></th>\n",
       "      <th></th>\n",
       "      <th></th>\n",
       "      <th></th>\n",
       "      <th></th>\n",
       "      <th></th>\n",
       "      <th></th>\n",
       "      <th></th>\n",
       "    </tr>\n",
       "  </thead>\n",
       "  <tbody>\n",
       "    <tr>\n",
       "      <th>2020-01-02</th>\n",
       "      <td>6.26</td>\n",
       "      <td>6.28</td>\n",
       "      <td>6.22</td>\n",
       "      <td>6.23</td>\n",
       "      <td>0.02</td>\n",
       "      <td>0.32</td>\n",
       "      <td>91,728</td>\n",
       "      <td>5,731</td>\n",
       "      <td>0.97</td>\n",
       "      <td>0.23</td>\n",
       "      <td>NaN</td>\n",
       "      <td>NaN</td>\n",
       "    </tr>\n",
       "    <tr>\n",
       "      <th>2020-01-03</th>\n",
       "      <td>6.24</td>\n",
       "      <td>6.26</td>\n",
       "      <td>6.20</td>\n",
       "      <td>6.26</td>\n",
       "      <td>0.03</td>\n",
       "      <td>0.48</td>\n",
       "      <td>79,114</td>\n",
       "      <td>4,931</td>\n",
       "      <td>0.96</td>\n",
       "      <td>0.20</td>\n",
       "      <td>0.004804</td>\n",
       "      <td>0.004815</td>\n",
       "    </tr>\n",
       "    <tr>\n",
       "      <th>2020-01-06</th>\n",
       "      <td>6.24</td>\n",
       "      <td>6.28</td>\n",
       "      <td>6.21</td>\n",
       "      <td>6.24</td>\n",
       "      <td>-0.02</td>\n",
       "      <td>-0.32</td>\n",
       "      <td>111,752</td>\n",
       "      <td>6,981</td>\n",
       "      <td>1.12</td>\n",
       "      <td>0.28</td>\n",
       "      <td>-0.003200</td>\n",
       "      <td>-0.003195</td>\n",
       "    </tr>\n",
       "    <tr>\n",
       "      <th>2020-01-07</th>\n",
       "      <td>6.24</td>\n",
       "      <td>6.35</td>\n",
       "      <td>6.22</td>\n",
       "      <td>6.31</td>\n",
       "      <td>0.07</td>\n",
       "      <td>1.12</td>\n",
       "      <td>130,867</td>\n",
       "      <td>8,237</td>\n",
       "      <td>2.08</td>\n",
       "      <td>0.33</td>\n",
       "      <td>0.011155</td>\n",
       "      <td>0.011218</td>\n",
       "    </tr>\n",
       "    <tr>\n",
       "      <th>2020-01-08</th>\n",
       "      <td>6.29</td>\n",
       "      <td>6.29</td>\n",
       "      <td>6.11</td>\n",
       "      <td>6.14</td>\n",
       "      <td>-0.17</td>\n",
       "      <td>-2.69</td>\n",
       "      <td>150,504</td>\n",
       "      <td>9,321</td>\n",
       "      <td>2.85</td>\n",
       "      <td>0.38</td>\n",
       "      <td>-0.027311</td>\n",
       "      <td>-0.026941</td>\n",
       "    </tr>\n",
       "    <tr>\n",
       "      <th>...</th>\n",
       "      <td>...</td>\n",
       "      <td>...</td>\n",
       "      <td>...</td>\n",
       "      <td>...</td>\n",
       "      <td>...</td>\n",
       "      <td>...</td>\n",
       "      <td>...</td>\n",
       "      <td>...</td>\n",
       "      <td>...</td>\n",
       "      <td>...</td>\n",
       "      <td>...</td>\n",
       "      <td>...</td>\n",
       "    </tr>\n",
       "    <tr>\n",
       "      <th>2021-06-11</th>\n",
       "      <td>10.16</td>\n",
       "      <td>10.94</td>\n",
       "      <td>10.16</td>\n",
       "      <td>10.66</td>\n",
       "      <td>0.51</td>\n",
       "      <td>5.02</td>\n",
       "      <td>1,425,118</td>\n",
       "      <td>151,768</td>\n",
       "      <td>7.68</td>\n",
       "      <td>3.00</td>\n",
       "      <td>0.049025</td>\n",
       "      <td>0.050246</td>\n",
       "    </tr>\n",
       "    <tr>\n",
       "      <th>2021-06-15</th>\n",
       "      <td>10.66</td>\n",
       "      <td>10.78</td>\n",
       "      <td>10.30</td>\n",
       "      <td>10.44</td>\n",
       "      <td>-0.22</td>\n",
       "      <td>-2.06</td>\n",
       "      <td>918,688</td>\n",
       "      <td>96,353</td>\n",
       "      <td>4.50</td>\n",
       "      <td>1.93</td>\n",
       "      <td>-0.020854</td>\n",
       "      <td>-0.020638</td>\n",
       "    </tr>\n",
       "    <tr>\n",
       "      <th>2021-06-16</th>\n",
       "      <td>10.30</td>\n",
       "      <td>10.31</td>\n",
       "      <td>9.53</td>\n",
       "      <td>9.70</td>\n",
       "      <td>-0.74</td>\n",
       "      <td>-7.09</td>\n",
       "      <td>1,130,270</td>\n",
       "      <td>111,025</td>\n",
       "      <td>7.47</td>\n",
       "      <td>2.38</td>\n",
       "      <td>-0.073519</td>\n",
       "      <td>-0.070881</td>\n",
       "    </tr>\n",
       "    <tr>\n",
       "      <th>2021-06-17</th>\n",
       "      <td>9.65</td>\n",
       "      <td>9.98</td>\n",
       "      <td>9.48</td>\n",
       "      <td>9.83</td>\n",
       "      <td>0.13</td>\n",
       "      <td>1.34</td>\n",
       "      <td>627,897</td>\n",
       "      <td>61,601</td>\n",
       "      <td>5.15</td>\n",
       "      <td>1.32</td>\n",
       "      <td>0.013313</td>\n",
       "      <td>0.013402</td>\n",
       "    </tr>\n",
       "    <tr>\n",
       "      <th>2021-06-18</th>\n",
       "      <td>9.62</td>\n",
       "      <td>9.77</td>\n",
       "      <td>9.30</td>\n",
       "      <td>9.60</td>\n",
       "      <td>0.03</td>\n",
       "      <td>0.31</td>\n",
       "      <td>765,926</td>\n",
       "      <td>72,974</td>\n",
       "      <td>4.91</td>\n",
       "      <td>1.61</td>\n",
       "      <td>-0.023676</td>\n",
       "      <td>-0.023398</td>\n",
       "    </tr>\n",
       "  </tbody>\n",
       "</table>\n",
       "<p>353 rows × 12 columns</p>\n",
       "</div>"
      ],
      "text/plain": [
       "              开盘价    最高价    最低价    收盘价   涨跌额  涨跌幅(%)     成交量(手) 成交金额(万元)  \\\n",
       "日期                                                                         \n",
       "2020-01-02   6.26   6.28   6.22   6.23  0.02    0.32     91,728    5,731   \n",
       "2020-01-03   6.24   6.26   6.20   6.26  0.03    0.48     79,114    4,931   \n",
       "2020-01-06   6.24   6.28   6.21   6.24 -0.02   -0.32    111,752    6,981   \n",
       "2020-01-07   6.24   6.35   6.22   6.31  0.07    1.12    130,867    8,237   \n",
       "2020-01-08   6.29   6.29   6.11   6.14 -0.17   -2.69    150,504    9,321   \n",
       "...           ...    ...    ...    ...   ...     ...        ...      ...   \n",
       "2021-06-11  10.16  10.94  10.16  10.66  0.51    5.02  1,425,118  151,768   \n",
       "2021-06-15  10.66  10.78  10.30  10.44 -0.22   -2.06    918,688   96,353   \n",
       "2021-06-16  10.30  10.31   9.53   9.70 -0.74   -7.09  1,130,270  111,025   \n",
       "2021-06-17   9.65   9.98   9.48   9.83  0.13    1.34    627,897   61,601   \n",
       "2021-06-18   9.62   9.77   9.30   9.60  0.03    0.31    765,926   72,974   \n",
       "\n",
       "              振幅   换手率  logreturn    return  \n",
       "日期                                           \n",
       "2020-01-02  0.97  0.23        NaN       NaN  \n",
       "2020-01-03  0.96  0.20   0.004804  0.004815  \n",
       "2020-01-06  1.12  0.28  -0.003200 -0.003195  \n",
       "2020-01-07  2.08  0.33   0.011155  0.011218  \n",
       "2020-01-08  2.85  0.38  -0.027311 -0.026941  \n",
       "...          ...   ...        ...       ...  \n",
       "2021-06-11  7.68  3.00   0.049025  0.050246  \n",
       "2021-06-15  4.50  1.93  -0.020854 -0.020638  \n",
       "2021-06-16  7.47  2.38  -0.073519 -0.070881  \n",
       "2021-06-17  5.15  1.32   0.013313  0.013402  \n",
       "2021-06-18  4.91  1.61  -0.023676 -0.023398  \n",
       "\n",
       "[353 rows x 12 columns]"
      ]
     },
     "execution_count": 20,
     "metadata": {},
     "output_type": "execute_result"
    }
   ],
   "source": [
    "appl['logreturn'] = np.log(appl['收盘价']/appl['收盘价'].shift(1))\n",
    "appl['return'] = (appl['收盘价']-appl['收盘价'].shift(1))/appl['收盘价'].shift(1)\n",
    "appl"
   ]
  },
  {
   "cell_type": "code",
   "execution_count": 42,
   "metadata": {},
   "outputs": [
    {
     "data": {
      "text/html": [
       "<div>\n",
       "<style scoped>\n",
       "    .dataframe tbody tr th:only-of-type {\n",
       "        vertical-align: middle;\n",
       "    }\n",
       "\n",
       "    .dataframe tbody tr th {\n",
       "        vertical-align: top;\n",
       "    }\n",
       "\n",
       "    .dataframe thead th {\n",
       "        text-align: right;\n",
       "    }\n",
       "</style>\n",
       "<table border=\"1\" class=\"dataframe\">\n",
       "  <thead>\n",
       "    <tr style=\"text-align: right;\">\n",
       "      <th></th>\n",
       "      <th>开盘价</th>\n",
       "      <th>最高价</th>\n",
       "      <th>最低价</th>\n",
       "      <th>收盘价</th>\n",
       "      <th>涨跌额</th>\n",
       "      <th>涨跌幅(%)</th>\n",
       "      <th>成交量(手)</th>\n",
       "      <th>成交金额(万元)</th>\n",
       "      <th>振幅</th>\n",
       "      <th>换手率</th>\n",
       "      <th>logreturn</th>\n",
       "      <th>return</th>\n",
       "    </tr>\n",
       "    <tr>\n",
       "      <th>日期</th>\n",
       "      <th></th>\n",
       "      <th></th>\n",
       "      <th></th>\n",
       "      <th></th>\n",
       "      <th></th>\n",
       "      <th></th>\n",
       "      <th></th>\n",
       "      <th></th>\n",
       "      <th></th>\n",
       "      <th></th>\n",
       "      <th></th>\n",
       "      <th></th>\n",
       "    </tr>\n",
       "  </thead>\n",
       "  <tbody>\n",
       "    <tr>\n",
       "      <th>2020-01-03</th>\n",
       "      <td>6.24</td>\n",
       "      <td>6.26</td>\n",
       "      <td>6.20</td>\n",
       "      <td>6.26</td>\n",
       "      <td>0.03</td>\n",
       "      <td>0.48</td>\n",
       "      <td>79,114</td>\n",
       "      <td>4,931</td>\n",
       "      <td>0.96</td>\n",
       "      <td>0.20</td>\n",
       "      <td>0.004804</td>\n",
       "      <td>0.004815</td>\n",
       "    </tr>\n",
       "    <tr>\n",
       "      <th>2020-01-06</th>\n",
       "      <td>6.24</td>\n",
       "      <td>6.28</td>\n",
       "      <td>6.21</td>\n",
       "      <td>6.24</td>\n",
       "      <td>-0.02</td>\n",
       "      <td>-0.32</td>\n",
       "      <td>111,752</td>\n",
       "      <td>6,981</td>\n",
       "      <td>1.12</td>\n",
       "      <td>0.28</td>\n",
       "      <td>-0.003200</td>\n",
       "      <td>-0.003195</td>\n",
       "    </tr>\n",
       "    <tr>\n",
       "      <th>2020-01-07</th>\n",
       "      <td>6.24</td>\n",
       "      <td>6.35</td>\n",
       "      <td>6.22</td>\n",
       "      <td>6.31</td>\n",
       "      <td>0.07</td>\n",
       "      <td>1.12</td>\n",
       "      <td>130,867</td>\n",
       "      <td>8,237</td>\n",
       "      <td>2.08</td>\n",
       "      <td>0.33</td>\n",
       "      <td>0.011155</td>\n",
       "      <td>0.011218</td>\n",
       "    </tr>\n",
       "    <tr>\n",
       "      <th>2020-01-08</th>\n",
       "      <td>6.29</td>\n",
       "      <td>6.29</td>\n",
       "      <td>6.11</td>\n",
       "      <td>6.14</td>\n",
       "      <td>-0.17</td>\n",
       "      <td>-2.69</td>\n",
       "      <td>150,504</td>\n",
       "      <td>9,321</td>\n",
       "      <td>2.85</td>\n",
       "      <td>0.38</td>\n",
       "      <td>-0.027311</td>\n",
       "      <td>-0.026941</td>\n",
       "    </tr>\n",
       "    <tr>\n",
       "      <th>2020-01-09</th>\n",
       "      <td>6.16</td>\n",
       "      <td>6.25</td>\n",
       "      <td>6.16</td>\n",
       "      <td>6.19</td>\n",
       "      <td>0.05</td>\n",
       "      <td>0.81</td>\n",
       "      <td>76,713</td>\n",
       "      <td>4,745</td>\n",
       "      <td>1.47</td>\n",
       "      <td>0.19</td>\n",
       "      <td>0.008110</td>\n",
       "      <td>0.008143</td>\n",
       "    </tr>\n",
       "    <tr>\n",
       "      <th>...</th>\n",
       "      <td>...</td>\n",
       "      <td>...</td>\n",
       "      <td>...</td>\n",
       "      <td>...</td>\n",
       "      <td>...</td>\n",
       "      <td>...</td>\n",
       "      <td>...</td>\n",
       "      <td>...</td>\n",
       "      <td>...</td>\n",
       "      <td>...</td>\n",
       "      <td>...</td>\n",
       "      <td>...</td>\n",
       "    </tr>\n",
       "    <tr>\n",
       "      <th>2021-06-11</th>\n",
       "      <td>10.16</td>\n",
       "      <td>10.94</td>\n",
       "      <td>10.16</td>\n",
       "      <td>10.66</td>\n",
       "      <td>0.51</td>\n",
       "      <td>5.02</td>\n",
       "      <td>1,425,118</td>\n",
       "      <td>151,768</td>\n",
       "      <td>7.68</td>\n",
       "      <td>3.00</td>\n",
       "      <td>0.049025</td>\n",
       "      <td>0.050246</td>\n",
       "    </tr>\n",
       "    <tr>\n",
       "      <th>2021-06-15</th>\n",
       "      <td>10.66</td>\n",
       "      <td>10.78</td>\n",
       "      <td>10.30</td>\n",
       "      <td>10.44</td>\n",
       "      <td>-0.22</td>\n",
       "      <td>-2.06</td>\n",
       "      <td>918,688</td>\n",
       "      <td>96,353</td>\n",
       "      <td>4.50</td>\n",
       "      <td>1.93</td>\n",
       "      <td>-0.020854</td>\n",
       "      <td>-0.020638</td>\n",
       "    </tr>\n",
       "    <tr>\n",
       "      <th>2021-06-16</th>\n",
       "      <td>10.30</td>\n",
       "      <td>10.31</td>\n",
       "      <td>9.53</td>\n",
       "      <td>9.70</td>\n",
       "      <td>-0.74</td>\n",
       "      <td>-7.09</td>\n",
       "      <td>1,130,270</td>\n",
       "      <td>111,025</td>\n",
       "      <td>7.47</td>\n",
       "      <td>2.38</td>\n",
       "      <td>-0.073519</td>\n",
       "      <td>-0.070881</td>\n",
       "    </tr>\n",
       "    <tr>\n",
       "      <th>2021-06-17</th>\n",
       "      <td>9.65</td>\n",
       "      <td>9.98</td>\n",
       "      <td>9.48</td>\n",
       "      <td>9.83</td>\n",
       "      <td>0.13</td>\n",
       "      <td>1.34</td>\n",
       "      <td>627,897</td>\n",
       "      <td>61,601</td>\n",
       "      <td>5.15</td>\n",
       "      <td>1.32</td>\n",
       "      <td>0.013313</td>\n",
       "      <td>0.013402</td>\n",
       "    </tr>\n",
       "    <tr>\n",
       "      <th>2021-06-18</th>\n",
       "      <td>9.62</td>\n",
       "      <td>9.77</td>\n",
       "      <td>9.30</td>\n",
       "      <td>9.60</td>\n",
       "      <td>0.03</td>\n",
       "      <td>0.31</td>\n",
       "      <td>765,926</td>\n",
       "      <td>72,974</td>\n",
       "      <td>4.91</td>\n",
       "      <td>1.61</td>\n",
       "      <td>-0.023676</td>\n",
       "      <td>-0.023398</td>\n",
       "    </tr>\n",
       "  </tbody>\n",
       "</table>\n",
       "<p>352 rows × 12 columns</p>\n",
       "</div>"
      ],
      "text/plain": [
       "              开盘价    最高价    最低价    收盘价   涨跌额  涨跌幅(%)     成交量(手) 成交金额(万元)  \\\n",
       "日期                                                                         \n",
       "2020-01-03   6.24   6.26   6.20   6.26  0.03    0.48     79,114    4,931   \n",
       "2020-01-06   6.24   6.28   6.21   6.24 -0.02   -0.32    111,752    6,981   \n",
       "2020-01-07   6.24   6.35   6.22   6.31  0.07    1.12    130,867    8,237   \n",
       "2020-01-08   6.29   6.29   6.11   6.14 -0.17   -2.69    150,504    9,321   \n",
       "2020-01-09   6.16   6.25   6.16   6.19  0.05    0.81     76,713    4,745   \n",
       "...           ...    ...    ...    ...   ...     ...        ...      ...   \n",
       "2021-06-11  10.16  10.94  10.16  10.66  0.51    5.02  1,425,118  151,768   \n",
       "2021-06-15  10.66  10.78  10.30  10.44 -0.22   -2.06    918,688   96,353   \n",
       "2021-06-16  10.30  10.31   9.53   9.70 -0.74   -7.09  1,130,270  111,025   \n",
       "2021-06-17   9.65   9.98   9.48   9.83  0.13    1.34    627,897   61,601   \n",
       "2021-06-18   9.62   9.77   9.30   9.60  0.03    0.31    765,926   72,974   \n",
       "\n",
       "              振幅   换手率  logreturn    return  \n",
       "日期                                           \n",
       "2020-01-03  0.96  0.20   0.004804  0.004815  \n",
       "2020-01-06  1.12  0.28  -0.003200 -0.003195  \n",
       "2020-01-07  2.08  0.33   0.011155  0.011218  \n",
       "2020-01-08  2.85  0.38  -0.027311 -0.026941  \n",
       "2020-01-09  1.47  0.19   0.008110  0.008143  \n",
       "...          ...   ...        ...       ...  \n",
       "2021-06-11  7.68  3.00   0.049025  0.050246  \n",
       "2021-06-15  4.50  1.93  -0.020854 -0.020638  \n",
       "2021-06-16  7.47  2.38  -0.073519 -0.070881  \n",
       "2021-06-17  5.15  1.32   0.013313  0.013402  \n",
       "2021-06-18  4.91  1.61  -0.023676 -0.023398  \n",
       "\n",
       "[352 rows x 12 columns]"
      ]
     },
     "execution_count": 42,
     "metadata": {},
     "output_type": "execute_result"
    }
   ],
   "source": [
    "appl=appl.dropna(axis=0,subset =[\"logreturn\",\"return\"]) \n",
    "appl"
   ]
  },
  {
   "cell_type": "code",
   "execution_count": 11,
   "metadata": {},
   "outputs": [],
   "source": [
    "pro = ts.pro_api('eb13b3bfd2bd07fd9eb40234f19941c73f230e1e98cc212b8cd407c7')"
   ]
  },
  {
   "cell_type": "code",
   "execution_count": 12,
   "metadata": {},
   "outputs": [],
   "source": [
    "data =pro.daily(ts_code='000001.SZ', start_date='20180701', end_date='20200718')"
   ]
  },
  {
   "cell_type": "code",
   "execution_count": 13,
   "metadata": {},
   "outputs": [],
   "source": [
    "data = data.set_index('trade_date').sort_index()"
   ]
  },
  {
   "cell_type": "code",
   "execution_count": 14,
   "metadata": {},
   "outputs": [
    {
     "data": {
      "text/html": [
       "<div>\n",
       "<style scoped>\n",
       "    .dataframe tbody tr th:only-of-type {\n",
       "        vertical-align: middle;\n",
       "    }\n",
       "\n",
       "    .dataframe tbody tr th {\n",
       "        vertical-align: top;\n",
       "    }\n",
       "\n",
       "    .dataframe thead th {\n",
       "        text-align: right;\n",
       "    }\n",
       "</style>\n",
       "<table border=\"1\" class=\"dataframe\">\n",
       "  <thead>\n",
       "    <tr style=\"text-align: right;\">\n",
       "      <th></th>\n",
       "      <th>ts_code</th>\n",
       "      <th>open</th>\n",
       "      <th>high</th>\n",
       "      <th>low</th>\n",
       "      <th>close</th>\n",
       "      <th>pre_close</th>\n",
       "      <th>change</th>\n",
       "      <th>pct_chg</th>\n",
       "      <th>vol</th>\n",
       "      <th>amount</th>\n",
       "    </tr>\n",
       "    <tr>\n",
       "      <th>trade_date</th>\n",
       "      <th></th>\n",
       "      <th></th>\n",
       "      <th></th>\n",
       "      <th></th>\n",
       "      <th></th>\n",
       "      <th></th>\n",
       "      <th></th>\n",
       "      <th></th>\n",
       "      <th></th>\n",
       "      <th></th>\n",
       "    </tr>\n",
       "  </thead>\n",
       "  <tbody>\n",
       "    <tr>\n",
       "      <th>20180702</th>\n",
       "      <td>000001.SZ</td>\n",
       "      <td>9.05</td>\n",
       "      <td>9.05</td>\n",
       "      <td>8.55</td>\n",
       "      <td>8.61</td>\n",
       "      <td>9.09</td>\n",
       "      <td>-0.48</td>\n",
       "      <td>-5.28</td>\n",
       "      <td>1315520.13</td>\n",
       "      <td>1158545.868</td>\n",
       "    </tr>\n",
       "    <tr>\n",
       "      <th>20180703</th>\n",
       "      <td>000001.SZ</td>\n",
       "      <td>8.69</td>\n",
       "      <td>8.70</td>\n",
       "      <td>8.45</td>\n",
       "      <td>8.67</td>\n",
       "      <td>8.61</td>\n",
       "      <td>0.06</td>\n",
       "      <td>0.70</td>\n",
       "      <td>1274838.57</td>\n",
       "      <td>1096657.033</td>\n",
       "    </tr>\n",
       "    <tr>\n",
       "      <th>20180704</th>\n",
       "      <td>000001.SZ</td>\n",
       "      <td>8.63</td>\n",
       "      <td>8.75</td>\n",
       "      <td>8.61</td>\n",
       "      <td>8.61</td>\n",
       "      <td>8.67</td>\n",
       "      <td>-0.06</td>\n",
       "      <td>-0.69</td>\n",
       "      <td>711153.37</td>\n",
       "      <td>617278.559</td>\n",
       "    </tr>\n",
       "    <tr>\n",
       "      <th>20180705</th>\n",
       "      <td>000001.SZ</td>\n",
       "      <td>8.62</td>\n",
       "      <td>8.73</td>\n",
       "      <td>8.55</td>\n",
       "      <td>8.60</td>\n",
       "      <td>8.61</td>\n",
       "      <td>-0.01</td>\n",
       "      <td>-0.12</td>\n",
       "      <td>835768.77</td>\n",
       "      <td>722169.579</td>\n",
       "    </tr>\n",
       "    <tr>\n",
       "      <th>20180706</th>\n",
       "      <td>000001.SZ</td>\n",
       "      <td>8.61</td>\n",
       "      <td>8.78</td>\n",
       "      <td>8.45</td>\n",
       "      <td>8.66</td>\n",
       "      <td>8.60</td>\n",
       "      <td>0.06</td>\n",
       "      <td>0.70</td>\n",
       "      <td>988282.69</td>\n",
       "      <td>852071.526</td>\n",
       "    </tr>\n",
       "  </tbody>\n",
       "</table>\n",
       "</div>"
      ],
      "text/plain": [
       "              ts_code  open  high   low  close  pre_close  change  pct_chg  \\\n",
       "trade_date                                                                   \n",
       "20180702    000001.SZ  9.05  9.05  8.55   8.61       9.09   -0.48    -5.28   \n",
       "20180703    000001.SZ  8.69  8.70  8.45   8.67       8.61    0.06     0.70   \n",
       "20180704    000001.SZ  8.63  8.75  8.61   8.61       8.67   -0.06    -0.69   \n",
       "20180705    000001.SZ  8.62  8.73  8.55   8.60       8.61   -0.01    -0.12   \n",
       "20180706    000001.SZ  8.61  8.78  8.45   8.66       8.60    0.06     0.70   \n",
       "\n",
       "                   vol       amount  \n",
       "trade_date                           \n",
       "20180702    1315520.13  1158545.868  \n",
       "20180703    1274838.57  1096657.033  \n",
       "20180704     711153.37   617278.559  \n",
       "20180705     835768.77   722169.579  \n",
       "20180706     988282.69   852071.526  "
      ]
     },
     "execution_count": 14,
     "metadata": {},
     "output_type": "execute_result"
    }
   ],
   "source": [
    "data.head()"
   ]
  },
  {
   "cell_type": "code",
   "execution_count": 15,
   "metadata": {},
   "outputs": [
    {
     "data": {
      "image/png": "[encoded data removed]",
      "text/plain": [
       "<Figure size 720x432 with 1 Axes>"
      ]
     },
     "metadata": {
      "needs_background": "light"
     },
     "output_type": "display_data"
    }
   ],
   "source": [
    "pdf_plot(data['close'])  # 价格数据的分布"
   ]
  },
  {
   "cell_type": "code",
   "execution_count": 16,
   "metadata": {},
   "outputs": [
    {
     "data": {
      "image/png": "[encoded data removed]",
      "text/plain": [
       "<Figure size 720x432 with 1 Axes>"
      ]
     },
     "metadata": {
      "needs_background": "light"
     },
     "output_type": "display_data"
    }
   ],
   "source": [
    "pdf_plot(appl['收盘价'])  # 价格数据的分布"
   ]
  },
  {
   "cell_type": "code",
   "execution_count": 23,
   "metadata": {},
   "outputs": [
    {
     "data": {
      "image/png": "[encoded data removed]",
      "text/plain": [
       "<Figure size 432x288 with 1 Axes>"
      ]
     },
     "metadata": {
      "needs_background": "light"
     },
     "output_type": "display_data"
    }
   ],
   "source": [
    "qq_plot(data['close'])  # 价格数据的qq图"
   ]
  },
  {
   "cell_type": "code",
   "execution_count": 24,
   "metadata": {},
   "outputs": [
    {
     "data": {
      "image/png": "[encoded data removed]",
      "text/plain": [
       "<Figure size 432x288 with 1 Axes>"
      ]
     },
     "metadata": {
      "needs_background": "light"
     },
     "output_type": "display_data"
    }
   ],
   "source": [
    "qq_plot(appl['收盘价'])  # 价格数据的qq图"
   ]
  },
  {
   "cell_type": "code",
   "execution_count": 23,
   "metadata": {},
   "outputs": [
    {
     "data": {
      "image/png": "[encoded data removed]",
      "text/plain": [
       "<Figure size 720x432 with 1 Axes>"
      ]
     },
     "metadata": {
      "needs_background": "light"
     },
     "output_type": "display_data"
    }
   ],
   "source": [
    "pdf_plot(data['pct_chg'])"
   ]
  },
  {
   "cell_type": "code",
   "execution_count": 18,
   "metadata": {},
   "outputs": [
    {
     "data": {
      "image/png": "[encoded data removed]",
      "text/plain": [
       "<Figure size 432x288 with 1 Axes>"
      ]
     },
     "metadata": {
      "needs_background": "light"
     },
     "output_type": "display_data"
    }
   ],
   "source": [
    "qq_plot(data['pct_chg'])"
   ]
  },
  {
   "cell_type": "code",
   "execution_count": 25,
   "metadata": {},
   "outputs": [
    {
     "data": {
      "image/png": "[encoded data removed]",
      "text/plain": [
       "<Figure size 720x432 with 1 Axes>"
      ]
     },
     "metadata": {
      "needs_background": "light"
     },
     "output_type": "display_data"
    }
   ],
   "source": [
    "pdf_plot(appl['logreturn'])"
   ]
  },
  {
   "cell_type": "code",
   "execution_count": 37,
   "metadata": {},
   "outputs": [
    {
     "data": {
      "image/png": "[encoded data removed]",
      "text/plain": [
       "<Figure size 432x288 with 1 Axes>"
      ]
     },
     "metadata": {
      "needs_background": "light"
     },
     "output_type": "display_data"
    }
   ],
   "source": [
    "qq_plot(appl['logreturn'])"
   ]
  },
  {
   "cell_type": "code",
   "execution_count": 38,
   "metadata": {},
   "outputs": [
    {
     "data": {
      "image/png": "[encoded data removed]",
      "text/plain": [
       "<Figure size 720x432 with 1 Axes>"
      ]
     },
     "metadata": {
      "needs_background": "light"
     },
     "output_type": "display_data"
    }
   ],
   "source": [
    "pdf_plot(appl['return'])"
   ]
  },
  {
   "cell_type": "code",
   "execution_count": 39,
   "metadata": {},
   "outputs": [
    {
     "data": {
      "image/png": "[encoded data removed]",
      "text/plain": [
       "<Figure size 432x288 with 1 Axes>"
      ]
     },
     "metadata": {
      "needs_background": "light"
     },
     "output_type": "display_data"
    }
   ],
   "source": [
    "qq_plot(appl['return'])"
   ]
  },
  {
   "cell_type": "code",
   "execution_count": 30,
   "metadata": {},
   "outputs": [],
   "source": [
    "#  价格数据从图片完全不存在正态性，收益率数据相对好一些，但是也存在大尾巴\n",
    "#  进一步进行正态性的检验\n",
    "def normality_test(data):\n",
    "    \"\"\" 根据偏度 峰度 正态性检验的P值等查看数据的正态性\"\"\"\n",
    "    print('偏斜度：',scs.skew(data))\n",
    "    print('偏斜度测试的P值：',scs.skewtest(data)[1])\n",
    "    print('峰度：',scs.kurtosis(data))\n",
    "    print('峰度测试的P值：',scs.kurtosistest(data)[1])\n",
    "    print('正态性检验的P值：',scs.normaltest(data)[1])"
   ]
  },
  {
   "cell_type": "code",
   "execution_count": 31,
   "metadata": {},
   "outputs": [
    {
     "name": "stdout",
     "output_type": "stream",
     "text": [
      "偏斜度： 0.30683587481260305\n",
      "偏斜度测试的P值： 0.005506459211850274\n",
      "峰度： 2.5755923009134767\n",
      "峰度测试的P值： 3.943238911627592e-09\n",
      "正态性检验的P值： 6.344050468673175e-10\n"
     ]
    }
   ],
   "source": [
    "normality_test(data['pct_chg'])"
   ]
  },
  {
   "cell_type": "code",
   "execution_count": 40,
   "metadata": {},
   "outputs": [
    {
     "name": "stdout",
     "output_type": "stream",
     "text": [
      "偏斜度： -0.22524201274046948\n",
      "偏斜度测试的P值： 0.08187488321859329\n",
      "峰度： 6.308683704005146\n",
      "峰度测试的P值： 1.1074135261355631e-13\n",
      "正态性检验的P值： 2.3087914054438097e-13\n"
     ]
    }
   ],
   "source": [
    "normality_test(appl['logreturn'])"
   ]
  },
  {
   "cell_type": "code",
   "execution_count": 41,
   "metadata": {},
   "outputs": [
    {
     "name": "stdout",
     "output_type": "stream",
     "text": [
      "偏斜度： 0.15013530749681933\n",
      "偏斜度测试的P值： 0.24314461308598312\n",
      "峰度： 5.201480724360643\n",
      "峰度测试的P值： 4.441074925004192e-12\n",
      "正态性检验的P值： 1.98894811603307e-11\n"
     ]
    }
   ],
   "source": [
    "normality_test(appl['return'])"
   ]
  },
  {
   "cell_type": "markdown",
   "metadata": {},
   "source": [
    "###  综合练习\n",
    "* 提取国内市场指数（上证指数，沪深300等指数数据）检验其是否有正态性\n",
    "* 提取国际市场数据（sp500,MSFT,INTC等数据)检验期是否有正态性"
   ]
  },
  {
   "cell_type": "code",
   "execution_count": null,
   "metadata": {},
   "outputs": [],
   "source": []
  }
 ],
 "metadata": {
  "kernelspec": {
   "display_name": "Python 3 (ipykernel)",
   "language": "python",
   "name": "python3"
  },
  "language_info": {
   "codemirror_mode": {
    "name": "ipython",
    "version": 3
   },
   "file_extension": ".py",
   "mimetype": "text/x-python",
   "name": "python",
   "nbconvert_exporter": "python",
   "pygments_lexer": "ipython3",
   "version": "3.11.5"
  }
 },
 "nbformat": 4,
 "nbformat_minor": 4
}
